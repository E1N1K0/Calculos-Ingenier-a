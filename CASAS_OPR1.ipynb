{
  "nbformat": 4,
  "nbformat_minor": 0,
  "metadata": {
    "colab": {
      "name": "CASAS OPR1.ipynb",
      "provenance": [],
      "collapsed_sections": [],
      "authorship_tag": "ABX9TyPkfwXyr6wJCCpV6Q7mLeOb",
      "include_colab_link": true
    },
    "kernelspec": {
      "name": "python3",
      "display_name": "Python 3"
    },
    "language_info": {
      "name": "python"
    }
  },
  "cells": [
    {
      "cell_type": "markdown",
      "metadata": {
        "id": "view-in-github",
        "colab_type": "text"
      },
      "source": [
        "<a href=\"https://colab.research.google.com/github/E1N1K0/PYTHON-EJEMPLOS-EJERCICIOS-INGENIERIA-E1N1K0/blob/main/CASAS_OPR1.ipynb\" target=\"_parent\"><img src=\"https://colab.research.google.com/assets/colab-badge.svg\" alt=\"Open In Colab\"/></a>"
      ]
    },
    {
      "cell_type": "markdown",
      "source": [
        "1.- En un terreno de 4 hectáreas, se construiran dos tipos de viviendas: <br>\n",
        "de Tipo I, con 270m2 y un costo de 325.000 € y las <br>\n",
        "de Tipo II, de 200 m2 y un costo de 256.000 €. <br>\n",
        "\n",
        "Se espera que la demanda máxima de viviendas de Tipo I es de 100 unidades y la de Tipo II es de 120 unidades.<br>\n",
        "Además, la demanda máxima combinada es de 170 unidades. <br>\n",
        "Se desea determinar la combinación óptima de viviendas para lograr un ingreso máximo."
      ],
      "metadata": {
        "id": "WtuuRsxchfKr"
      }
    },
    {
      "cell_type": "code",
      "source": [
        "# pip install pulp"
      ],
      "metadata": {
        "colab": {
          "base_uri": "https://localhost:8080/"
        },
        "id": "E0w4ZDU_h4ip",
        "outputId": "9fe7c59c-9204-4e00-ca49-a98ea2130c48"
      },
      "execution_count": null,
      "outputs": [
        {
          "output_type": "stream",
          "name": "stdout",
          "text": [
            "Collecting pulp\n",
            "  Downloading PuLP-2.6.0-py3-none-any.whl (14.2 MB)\n",
            "\u001b[K     |████████████████████████████████| 14.2 MB 5.4 MB/s \n",
            "\u001b[?25hInstalling collected packages: pulp\n",
            "Successfully installed pulp-2.6.0\n"
          ]
        }
      ]
    },
    {
      "cell_type": "code",
      "source": [
        "import pulp as p"
      ],
      "metadata": {
        "id": "LeGJAUUEiL41"
      },
      "execution_count": null,
      "outputs": []
    },
    {
      "cell_type": "code",
      "source": [
        "# Parametros:\n",
        "items = [\"X\", \"Y\"]\n",
        "Profit = {\"X\":325000, \"Y\":256000}\n",
        "R1 = {\"X\":270, \"Y\":0}\n",
        "R2 = {\"X\":0, \"Y\":200}\n",
        "R3 = {\"X\":1, \"Y\":0}\n",
        "R4 = {\"X\":0, \"Y\":1}\n",
        "R5 = {\"X\":1, \"Y\":1}"
      ],
      "metadata": {
        "id": "E6LyIQwGiEVO"
      },
      "execution_count": null,
      "outputs": []
    },
    {
      "cell_type": "code",
      "source": [
        "# Inicia Class\n",
        "model = p.LpProblem('Maximizar Profit', p.LpMaximize)"
      ],
      "metadata": {
        "colab": {
          "base_uri": "https://localhost:8080/"
        },
        "id": "d07jt6FZipMK",
        "outputId": "2d36410a-138b-4e95-fc38-e6946c42dd65"
      },
      "execution_count": null,
      "outputs": [
        {
          "output_type": "stream",
          "name": "stderr",
          "text": [
            "/usr/local/lib/python3.7/dist-packages/pulp/pulp.py:1352: UserWarning: Spaces are not permitted in the name. Converted to '_'\n",
            "  warnings.warn(\"Spaces are not permitted in the name. Converted to '_'\")\n"
          ]
        }
      ]
    },
    {
      "cell_type": "code",
      "source": [
        "# 2. Define Variables de desicion\n",
        "X = p.LpVariable('X', lowBound = 0, cat = 'Integer')\n",
        "Y = p.LpVariable('Y', lowBound = 0, cat = 'Integer')\n",
        "\n",
        "var_dict = {\"X\":X, \"Y\":Y}"
      ],
      "metadata": {
        "id": "W6-_VOBLiqgU"
      },
      "execution_count": null,
      "outputs": []
    },
    {
      "cell_type": "code",
      "source": [
        "# Define función obtejetivo:\n",
        "model += p.lpSum([Profit[i] * var_dict[i] for i in items])"
      ],
      "metadata": {
        "id": "JFr7hm6XipUr"
      },
      "execution_count": null,
      "outputs": []
    },
    {
      "cell_type": "code",
      "source": [
        "# 4. Define Restricciones:\n",
        "\n",
        "model += p.lpSum([var_dict[i]*R1[i] for i in items]) <= 40000\n",
        "model += p.lpSum([var_dict[i]*R2[i] for i in items]) <= 40000\n",
        "model += p.lpSum([var_dict[i]*R3[i] for i in items]) <= 100\n",
        "model += p.lpSum([var_dict[i]*R4[i] for i in items]) <= 120\n",
        "model += p.lpSum([var_dict[i]*R5[i] for i in items]) <= 170"
      ],
      "metadata": {
        "id": "WIowAiumivcO"
      },
      "execution_count": null,
      "outputs": []
    },
    {
      "cell_type": "code",
      "source": [
        "print(model)\n",
        "# Nombres:\n",
        "dict_name = dict(zip([\"X\", \"Y\"], \n",
        "                     [\"Casa 1\", \"Casa 2\"]))"
      ],
      "metadata": {
        "colab": {
          "base_uri": "https://localhost:8080/"
        },
        "id": "VNJCe9W5izPG",
        "outputId": "761c8b74-df7b-4f6f-d878-239bae323c74"
      },
      "execution_count": null,
      "outputs": [
        {
          "output_type": "stream",
          "name": "stdout",
          "text": [
            "Maximizar_Profit:\n",
            "MAXIMIZE\n",
            "325000*X + 256000*Y + 0\n",
            "SUBJECT TO\n",
            "_C1: 270 X <= 40000\n",
            "\n",
            "_C2: 200 Y <= 40000\n",
            "\n",
            "_C3: X <= 100\n",
            "\n",
            "_C4: Y <= 120\n",
            "\n",
            "_C5: X + Y <= 170\n",
            "\n",
            "VARIABLES\n",
            "0 <= X Integer\n",
            "0 <= Y Integer\n",
            "\n"
          ]
        }
      ]
    },
    {
      "cell_type": "code",
      "source": [
        "# Resolver:\n",
        "model.solve()\n",
        "for v in model.variables():\n",
        "    print(dict_name[v.name], \"=\", int(v.varValue))\n",
        "print(\"Beneficio: {:,} euros\".format(sum(var_dict[i].varValue * Profit[i] for i in items)))"
      ],
      "metadata": {
        "colab": {
          "base_uri": "https://localhost:8080/"
        },
        "id": "d92Q_j3Mi2N6",
        "outputId": "60d74af7-6d1b-4426-d367-ebcc94e94292"
      },
      "execution_count": null,
      "outputs": [
        {
          "output_type": "stream",
          "name": "stdout",
          "text": [
            "Casa 1 = 100\n",
            "Casa 2 = 70\n",
            "Beneficio: 50,420,000.0 euros\n"
          ]
        }
      ]
    },
    {
      "cell_type": "code",
      "source": [
        ""
      ],
      "metadata": {
        "id": "LbkhjqO7jKNN"
      },
      "execution_count": null,
      "outputs": []
    }
  ]
}