{
 "cells": [
  {
   "cell_type": "code",
   "execution_count": null,
   "metadata": {},
   "outputs": [],
   "source": [
    "#Clientes en una línea: Sensibilizacion.\n",
    "#Supuestos: MM1: Distribucion de llegadas Poisson y del servicio exponencial. Un servidor.\n",
    "\n",
    "import numpy as np                          #Para pi y e\n",
    "import matplotlib.pyplot as plt             #Para graficar\n",
    "\n",
    "def colas(eje_x):\n",
    "    \n",
    "    #CONDICIONES DE BORDE:\n",
    "    ritmo_llegadas = 15                      #Se especifica aqui....(automatizar en la ejecución).\n",
    "    ritmo_servicio = 20                      #Se especifica aqui....(automatizar en la ejecución).   \n",
    "         \n",
    "    #si ritmo_llegadas > ritmo_servicio => 'El sistema no es capaz!'        \n",
    "    \n",
    "    #DEFINIR LA VARIABLE INDEPENDIENTE Y DEPENDIENTE:\n",
    "    ritmo_llegadas = eje_x                   #Se especifica aqui....(automatizar en la ejecución) (eje x)\n",
    "    eje_y = 2                                #Se especifica aqui....(automatizar en la ejecución) (eje y)\n",
    "    \n",
    "    #ECUACIONES:\n",
    "    utilizacion_servidor = ritmo_llegadas/ritmo_servicio\n",
    "    largo_linea = (ritmo_llegadas**2)/(ritmo_servicio*(ritmo_servicio-ritmo_llegadas))\n",
    "    numero_promedio_ensistema = ritmo_llegadas / (ritmo_servicio-ritmo_llegadas)\n",
    "    tiempo_espera_enlinea = largo_linea/ritmo_llegadas\n",
    "    \n",
    "    #ALTERNATIVA EJES:\n",
    "    alternativas_eje_y = {'1':utilizacion_servidor,\n",
    "                          '2':largo_linea,\n",
    "                          '3':numero_promedio_ensistema,\n",
    "                          '4':tiempo_espera_enlinea}\n",
    "    resultado = alternativas_eje_y[str(eje_y)] \n",
    "    \n",
    "    return resultado                        #eleccion de la ecuacion a graficar (eje y)"
   ]
  },
  {
   "cell_type": "code",
   "execution_count": null,
   "metadata": {},
   "outputs": [],
   "source": [
    "#EJECUCION\n",
    "eje_x=np.linspace(0.1,10,100)               #Automatizar parametros segun variable?????\n",
    "plt.plot(eje_x,colas(eje_x))   \n",
    "plt.xlabel('x = var_indep')                 #Como cambiar nombre automatico, segun la variable elegida???\n",
    "plt.ylabel('eje_y')"
   ]
  }
 ],
 "metadata": {
  "kernelspec": {
   "display_name": "Python 3 (ipykernel)",
   "language": "python",
   "name": "python3"
  },
  "language_info": {
   "codemirror_mode": {
    "name": "ipython",
    "version": 3
   },
   "file_extension": ".py",
   "mimetype": "text/x-python",
   "name": "python",
   "nbconvert_exporter": "python",
   "pygments_lexer": "ipython3",
   "version": "3.8.10"
  }
 },
 "nbformat": 4,
 "nbformat_minor": 4
}
