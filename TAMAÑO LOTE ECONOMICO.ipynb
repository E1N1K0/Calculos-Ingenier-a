{
 "cells": [
  {
   "cell_type": "markdown",
   "metadata": {},
   "source": [
    "# TAMAÑO LOTE ECONOMICO"
   ]
  },
  {
   "cell_type": "code",
   "execution_count": null,
   "metadata": {},
   "outputs": [],
   "source": [
    "#Cantidad económica de pedidos:\n",
    "import scipy.stats as st\n",
    "\n",
    "def EOQ():\n",
    "    #CONDICIONES DE BORDE:\n",
    "    Demanda_diaria_promedio = 60\n",
    "    Desves_diaria = 7\n",
    "    Costo_de_pedido = 10\n",
    "    Cost_de_mantenimiento = 0.5\n",
    "    Tiempo_entrega = 6\n",
    "    probabilidad_deseada_stock = 0.95\n",
    "    Demanda_anual = Demanda_diaria_promedio*365\n",
    "    \n",
    "    #ECUACIONES:\n",
    "    Cant_pedido_optima = ((2*Demanda_anual*Costo_de_pedido)/Cost_de_mantenimiento)**0.5 \n",
    "    desvest_Tiempo_entrega = (Tiempo_entrega*Desves_diaria**2)**.5\n",
    "    R = Demanda_diaria_promedio*Tiempo_entrega+st.norm.ppf(probabilidad_deseada_stock)*desvest_Tiempo_entrega\n",
    "   \n",
    "    return Cant_pedido_optima, desvest_Tiempo_entrega, R, print('Se debería realizar un pedido de ',Cant_pedido_optima,'unidade, cada vez que el numero de unidades en inventario baje a ', R,'unidades')"
   ]
  },
  {
   "cell_type": "code",
   "execution_count": null,
   "metadata": {},
   "outputs": [],
   "source": [
    "#EJECUCION:   \n",
    "EOQ()"
   ]
  }
 ],
 "metadata": {
  "kernelspec": {
   "display_name": "Python 3 (ipykernel)",
   "language": "python",
   "name": "python3"
  },
  "language_info": {
   "codemirror_mode": {
    "name": "ipython",
    "version": 3
   },
   "file_extension": ".py",
   "mimetype": "text/x-python",
   "name": "python",
   "nbconvert_exporter": "python",
   "pygments_lexer": "ipython3",
   "version": "3.8.10"
  }
 },
 "nbformat": 4,
 "nbformat_minor": 4
}
