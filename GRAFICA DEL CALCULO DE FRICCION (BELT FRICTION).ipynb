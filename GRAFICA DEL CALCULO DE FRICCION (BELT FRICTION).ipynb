{
 "cells": [
  {
   "cell_type": "markdown",
   "metadata": {},
   "source": [
    "# GRAFICA DEL CALCULO DE FRICCION (BELT FRICTION)"
   ]
  },
  {
   "cell_type": "code",
   "execution_count": null,
   "metadata": {},
   "outputs": [],
   "source": [
    "#Analiza cuanto se puede sostener por friccion, sensibilizando por fuerza resultante, coeficiente de roce o numero de vueltas."
   ]
  },
  {
   "cell_type": "code",
   "execution_count": null,
   "metadata": {},
   "outputs": [],
   "source": [
    "import numpy as np                  #Para pi y e\n",
    "import matplotlib.pyplot as plt     #Para graficar\n",
    "\n",
    "def T1(var_indep):\n",
    " \n",
    "    #CONSTANTES:\n",
    "    e = np.exp(1)      #e = 2.71828183\n",
    "    TT = np.pi         #pi = 3.1415 \n",
    "\n",
    "    #CONDICIONES DE BORDE:\n",
    "    #Fuerza requerida a levantar o peso a traccionar:\n",
    "    T2 = 100\n",
    "    #Coeficiente de friccion del material (si no se tiene, empiricamente, se puede probar con ferzas hasta que se deslice y luego establecer relaciones para aislar el coeficiente de rugosidad):\n",
    "    mu = 0.05\n",
    "    #Numero de vueltas:\n",
    "    vueltas = 1\n",
    "\n",
    "    #Definir la variable independiente:\n",
    "    vueltas = var_indep\n",
    " \n",
    "    #ECUACION:\n",
    "    resultado = T2/(e**(mu*vueltas*(2*TT)))\n",
    "    return resultado"
   ]
  },
  {
   "cell_type": "code",
   "execution_count": null,
   "metadata": {},
   "outputs": [],
   "source": [
    "#EJECUCION\n",
    "var_indep=np.linspace(0,5,100)       \n",
    "plt.plot(var_indep,T1(var_indep))   \n",
    "plt.xlabel('var_indep')              #Como cambiar nombre automatico, segun la variable elegida???\n",
    "plt.ylabel('T1')"
   ]
  }
 ],
 "metadata": {
  "kernelspec": {
   "display_name": "Python 3 (ipykernel)",
   "language": "python",
   "name": "python3"
  },
  "language_info": {
   "codemirror_mode": {
    "name": "ipython",
    "version": 3
   },
   "file_extension": ".py",
   "mimetype": "text/x-python",
   "name": "python",
   "nbconvert_exporter": "python",
   "pygments_lexer": "ipython3",
   "version": "3.8.10"
  }
 },
 "nbformat": 4,
 "nbformat_minor": 4
}
