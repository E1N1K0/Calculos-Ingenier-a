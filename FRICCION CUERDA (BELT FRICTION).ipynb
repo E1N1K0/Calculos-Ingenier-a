{
 "cells": [
  {
   "cell_type": "markdown",
   "metadata": {},
   "source": [
    "# FRICCION CUERDA (BELT FRICTION)"
   ]
  },
  {
   "cell_type": "code",
   "execution_count": null,
   "metadata": {},
   "outputs": [],
   "source": [
    "#Calcula cualquier variable que falte, ingresandola como ''"
   ]
  },
  {
   "cell_type": "code",
   "execution_count": null,
   "metadata": {},
   "outputs": [],
   "source": [
    "import numpy as np                                                    #Para pi y e\n",
    "import matplotlib.pyplot as plt                                       #Para graficar\n",
    "def belt_friction(T1, T2, mu, vueltas, decimales):\n",
    "    e = np.exp(1)                                                     #e = 2.71828183\n",
    "    TT = np.pi                                                        #pi = 3,1415 \n",
    "    try:\n",
    "        if T1 == '':\n",
    "            resultado = round(T2*(e**(mu*vueltas*(2*TT))),decimales)\n",
    "            print('La fuerza resultante, T1, en N, es de:')\n",
    "        elif T2 == '':\n",
    "            resultado = round(T1/(e**(mu*vueltas*(2*TT))),decimales)\n",
    "            print('La fuerza minima, T2, a aplicar, en N, es de:')\n",
    "        elif mu == '':\n",
    "            resultado = round((ma.log(T1/T2,e))/(vueltas*(2*TT)),decimales)\n",
    "            print('La rugosidad, mu, es de:')\n",
    "        elif vueltas == '':\n",
    "            resultado = round((ma.log(T1/T2,e))/(mu**(2*TT)),decimales)\n",
    "            print('Las vueltas requeridas para sostener el peso, es de:')\n",
    "    except:\n",
    "        return 'Error'\n",
    "    \n",
    "    return resultado"
   ]
  },
  {
   "cell_type": "code",
   "execution_count": null,
   "metadata": {},
   "outputs": [],
   "source": [
    "#Ejecucion: hay que asignar todas las condiciones de borde y dejar la variable independiente en comillas\n",
    "#belt_friction('', 10, 0.662, 2.5, 3)   #Rpta = 80\n",
    "#belt_friction(800, '', 0.3, ((180-2*20)/360), 3)\n",
    "#belt_friction(1000, '', 0.2, 2, 3)\n",
    "belt_friction(500, '', 0.2, 2, 3)"
   ]
  }
 ],
 "metadata": {
  "kernelspec": {
   "display_name": "Python 3 (ipykernel)",
   "language": "python",
   "name": "python3"
  },
  "language_info": {
   "codemirror_mode": {
    "name": "ipython",
    "version": 3
   },
   "file_extension": ".py",
   "mimetype": "text/x-python",
   "name": "python",
   "nbconvert_exporter": "python",
   "pygments_lexer": "ipython3",
   "version": "3.8.10"
  }
 },
 "nbformat": 4,
 "nbformat_minor": 4
}
